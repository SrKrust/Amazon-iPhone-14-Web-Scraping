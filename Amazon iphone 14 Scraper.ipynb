{
 "cells": [
  {
   "cell_type": "code",
   "execution_count": 9,
   "id": "85a8e41c",
   "metadata": {},
   "outputs": [
    {
     "name": "stdout",
     "output_type": "stream",
     "text": [
      "Requirement already satisfied: AutoScraper in c:\\programdata\\anaconda3\\lib\\site-packages (1.1.14)\n",
      "Requirement already satisfied: bs4 in c:\\programdata\\anaconda3\\lib\\site-packages (from AutoScraper) (0.0.1)\n",
      "Requirement already satisfied: lxml in c:\\programdata\\anaconda3\\lib\\site-packages (from AutoScraper) (4.8.0)\n",
      "Requirement already satisfied: requests in c:\\programdata\\anaconda3\\lib\\site-packages (from AutoScraper) (2.27.1)\n",
      "Requirement already satisfied: beautifulsoup4 in c:\\programdata\\anaconda3\\lib\\site-packages (from bs4->AutoScraper) (4.11.1)\n",
      "Requirement already satisfied: soupsieve>1.2 in c:\\programdata\\anaconda3\\lib\\site-packages (from beautifulsoup4->bs4->AutoScraper) (2.3.1)\n",
      "Requirement already satisfied: certifi>=2017.4.17 in c:\\programdata\\anaconda3\\lib\\site-packages (from requests->AutoScraper) (2021.10.8)\n",
      "Requirement already satisfied: charset-normalizer~=2.0.0 in c:\\programdata\\anaconda3\\lib\\site-packages (from requests->AutoScraper) (2.0.4)\n",
      "Requirement already satisfied: urllib3<1.27,>=1.21.1 in c:\\programdata\\anaconda3\\lib\\site-packages (from requests->AutoScraper) (1.26.9)\n",
      "Requirement already satisfied: idna<4,>=2.5 in c:\\programdata\\anaconda3\\lib\\site-packages (from requests->AutoScraper) (3.3)\n"
     ]
    }
   ],
   "source": [
    "!pip install AutoScraper\n",
    "\n"
   ]
  },
  {
   "cell_type": "code",
   "execution_count": 27,
   "id": "622e08d6",
   "metadata": {},
   "outputs": [],
   "source": [
    "from autoscraper import AutoScraper "
   ]
  },
  {
   "cell_type": "code",
   "execution_count": 28,
   "id": "99f62c29",
   "metadata": {},
   "outputs": [],
   "source": [
    "amazon_url = \"https://www.amazon.in/s?k=iphone+14&crid=26MQKGKRYJHZG&sprefix=iphone+14%2Caps%2C287&ref=nb_sb_noss_1\"\n",
    "wanted_list= [\"Apple iPhone 14 512GB (Product) RED\",\"1,09,900 \",\"3.8 out of 5 stars 15\"]"
   ]
  },
  {
   "cell_type": "code",
   "execution_count": 29,
   "id": "9429b27b",
   "metadata": {},
   "outputs": [
    {
     "name": "stdout",
     "output_type": "stream",
     "text": [
      "['Apple iPhone 14 128GB Midnight', 'Apple iPhone 14 128GB Starlight', 'Apple iPhone 14 128GB Blue', 'Apple iPhone 14 128GB (Product) RED', 'Apple iPhone 14 256GB Blue', 'Apple iPhone 14 128GB Purple', 'Apple iPhone 14 256GB Midnight', 'Apple iPhone 14 256GB Starlight', 'Apple iPhone 14 256GB Purple', 'Apple iPhone 14 256GB (Product) RED', 'Apple iPhone 14 512GB (Product) RED', 'Apple iPhone 14 Pro 128GB Gold', 'Apple iPhone 14 Pro Max 128GB Space Black', 'Apple iPhone 14 Pro Max 256GB Space Black', 'Apple iPhone 14 Plus 256GB Purple', 'Apple iPhone 14 Plus 256GB Blue', '79,900', '89,900', '1,09,900', '1,39,900', '99,900', '4.5 out of 5 stars 52', '4.4 out of 5 stars 49', '4.1 out of 5 stars 41', '3.8 out of 5 stars 15', '4.4 out of 5 stars 1,017', '4.3 out of 5 stars 50,182']\n"
     ]
    }
   ],
   "source": [
    "scraper=AutoScraper()\n",
    "result=scraper.build( amazon_url, wanted_list)\n",
    "print(result)"
   ]
  },
  {
   "cell_type": "code",
   "execution_count": 31,
   "id": "a9a41dbe",
   "metadata": {},
   "outputs": [
    {
     "data": {
      "text/plain": [
       "{'rule_wxla': ['Apple iPhone 14 128GB Midnight',\n",
       "  'Apple iPhone 14 128GB Starlight',\n",
       "  'Apple iPhone 14 128GB Blue',\n",
       "  'Apple iPhone 14 128GB (Product) RED',\n",
       "  'Apple iPhone 14 256GB Blue',\n",
       "  'Apple iPhone 14 128GB Purple',\n",
       "  'Apple iPhone 14 256GB Midnight',\n",
       "  'Apple iPhone 14 256GB Starlight',\n",
       "  'Apple iPhone 14 256GB Purple',\n",
       "  'Apple iPhone 14 256GB (Product) RED',\n",
       "  'Apple iPhone 14 Pro 128GB Gold',\n",
       "  'Apple iPhone 14 Pro Max 128GB Space Black',\n",
       "  'Apple iPhone 14 Pro Max 256GB Space Black',\n",
       "  'Apple iPhone 14 Plus 256GB Purple',\n",
       "  'Apple iPhone 14 Plus 256GB Blue',\n",
       "  'Apple iPhone 14 Plus 128GB Blue'],\n",
       " 'rule_1h23': ['Apple iPhone 14 128GB Midnight',\n",
       "  'Apple iPhone 14 128GB Starlight',\n",
       "  'Apple iPhone 14 128GB Blue',\n",
       "  'Apple iPhone 14 128GB (Product) RED',\n",
       "  'Apple iPhone 14 256GB Blue',\n",
       "  'Apple iPhone 14 128GB Purple',\n",
       "  'Apple iPhone 14 256GB Midnight',\n",
       "  'Apple iPhone 14 256GB Starlight',\n",
       "  'Apple iPhone 14 256GB Purple',\n",
       "  'Apple iPhone 14 256GB (Product) RED',\n",
       "  'Apple iPhone 14 Pro 128GB Gold',\n",
       "  'Apple iPhone 14 Pro Max 128GB Space Black',\n",
       "  'Apple iPhone 14 Pro Max 256GB Space Black',\n",
       "  'Apple iPhone 14 Plus 256GB Purple',\n",
       "  'Apple iPhone 14 Plus 256GB Blue',\n",
       "  'Apple iPhone 14 Plus 128GB Blue'],\n",
       " 'rule_prh6': ['79,900',\n",
       "  '79,900',\n",
       "  '79,900',\n",
       "  '79,900',\n",
       "  '89,900',\n",
       "  '79,900',\n",
       "  '89,900',\n",
       "  '89,900',\n",
       "  '89,900',\n",
       "  '89,900',\n",
       "  '1,39,900',\n",
       "  '99,900',\n",
       "  '99,900',\n",
       "  '89,900'],\n",
       " 'rule_089a': ['4.5 out of 5 stars 52',\n",
       "  '4.5 out of 5 stars 52',\n",
       "  '4.5 out of 5 stars 52',\n",
       "  '4.5 out of 5 stars 52',\n",
       "  '4.5 out of 5 stars 52',\n",
       "  '4.5 out of 5 stars 52',\n",
       "  '4.5 out of 5 stars 52',\n",
       "  '4.5 out of 5 stars 52',\n",
       "  '4.5 out of 5 stars 52',\n",
       "  '4.5 out of 5 stars 52',\n",
       "  '4.4 out of 5 stars 49',\n",
       "  '4.1 out of 5 stars 41',\n",
       "  '4.1 out of 5 stars 41',\n",
       "  '3.8 out of 5 stars 15',\n",
       "  '3.8 out of 5 stars 15',\n",
       "  '3.8 out of 5 stars 15'],\n",
       " 'rule_aq07': ['4.5 out of 5 stars 52',\n",
       "  '4.5 out of 5 stars 52',\n",
       "  '4.5 out of 5 stars 52',\n",
       "  '4.5 out of 5 stars 52',\n",
       "  '4.5 out of 5 stars 52',\n",
       "  '4.5 out of 5 stars 52',\n",
       "  '4.5 out of 5 stars 52',\n",
       "  '4.5 out of 5 stars 52',\n",
       "  '4.5 out of 5 stars 52',\n",
       "  '4.5 out of 5 stars 52',\n",
       "  '4.4 out of 5 stars 49',\n",
       "  '4.1 out of 5 stars 41',\n",
       "  '4.1 out of 5 stars 41',\n",
       "  '3.8 out of 5 stars 15',\n",
       "  '3.8 out of 5 stars 15',\n",
       "  '3.8 out of 5 stars 15'],\n",
       " 'rule_hgcd': ['4.5 out of 5 stars 52',\n",
       "  '3.8 out of 5 stars 15',\n",
       "  '4.4 out of 5 stars 1,017',\n",
       "  '4.3 out of 5 stars 50,182']}"
      ]
     },
     "execution_count": 31,
     "metadata": {},
     "output_type": "execute_result"
    }
   ],
   "source": [
    "scraper.get_result_similar(amazon_url,grouped= True)"
   ]
  },
  {
   "cell_type": "code",
   "execution_count": 32,
   "id": "1792da87",
   "metadata": {},
   "outputs": [],
   "source": [
    "scraper.set_rule_aliases({'rule_wxla': 'Title','rule_prh6':'Price'})\n",
    "scraper.keep_rules(['rule_wxla','rule_prh6'])\n",
    "scraper.save('amazon-search')"
   ]
  },
  {
   "cell_type": "code",
   "execution_count": 33,
   "id": "d0e4c33a",
   "metadata": {},
   "outputs": [],
   "source": [
    "results=scraper.get_result_similar('https://www.amazon.in/s?k=samsung&crid=3B4EJR28KMSQ&sprefix=samsung%2Caps%2C313&ref=nb_sb_ss_ts-doa-p_3_7', group_by_alias= True)"
   ]
  },
  {
   "cell_type": "code",
   "execution_count": 37,
   "id": "0890d2c7",
   "metadata": {},
   "outputs": [
    {
     "data": {
      "text/plain": [
       "['Amazon\\'s Choicefor \"samsung\"',\n",
       " 'Samsung Galaxy M32 (Black, 4GB RAM, 64GB | FHD+ sAMOLED 90Hz Display | 6000mAh Battery | 64MP Quad Camera',\n",
       " 'Samsung A32 (Black, 6GB RAM, 128GB Storage) with No Cost EMI/Additional Exchange Offers',\n",
       " 'Samsung Galaxy M13 (Aqua Green, 4GB, 64GB Storage) | 6000mAh Battery | Upto 8GB RAM with RAM Plus',\n",
       " 'Samsung Galaxy M13 (Aqua Green, 6GB, 128GB Storage) | 6000mAh Battery | Upto 12GB RAM with RAM Plus',\n",
       " 'Samsung Galaxy S20 FE 5G (Cloud Mint, 8GB RAM, 128GB Storage)',\n",
       " 'Samsung Galaxy M53 5G (Deep Ocean Blue, 8GB, 128GB Storage) | 108MP | sAmoled+ 120Hz | 16GB RAM with RAM Plus | Travel Adapter to be Purchased Separately',\n",
       " 'Samsung Galaxy S20 FE 5G (Cloud Navy, 8GB RAM, 128GB Storage) with No Cost EMI & Additional Exchange Offers',\n",
       " 'Samsung Galaxy M32 Prime Edition (Light Blue, 6GB RAM, 128GB)',\n",
       " 'Samsung Galaxy S20 FE 5G (Cloud Lavender, 8GB RAM, 128GB Storage) with No Cost EMI & Additional Exchange Offers',\n",
       " 'Samsung Galaxy M53 5G (Mystique Green, 6GB, 128GB Storage) | 108MP | sAmoled+ 120Hz | 12GB RAM with RAM Plus | Travel Adapter to be Purchased Separately',\n",
       " 'Samsung Galaxy M32 5G (Sky Blue, 8GB RAM, 128GB Storage) | Dimensity 720 Processor | 5000mAh Battery| Knox Security',\n",
       " 'Samsung Galaxy M32 Prime Edition (Black, 6GB RAM, 128GB)',\n",
       " 'Samsung Galaxy M13 (Stardust Brown, 4GB, 64GB Storage) | 6000mAh Battery | Upto 8GB RAM with RAM Plus',\n",
       " 'Samsung Galaxy M32 Prime Edition (Light Blue, 4GB RAM, 64GB)',\n",
       " 'Samsung Galaxy M13 (Midnight Blue, 6GB, 128GB Storage) | 6000mAh Battery | Upto 12GB RAM with RAM Plus',\n",
       " 'Samsung Galaxy M13 (Midnight Blue, 4GB, 64GB Storage) | 6000mAh Battery | Upto 8GB RAM with RAM Plus']"
      ]
     },
     "execution_count": 37,
     "metadata": {},
     "output_type": "execute_result"
    }
   ],
   "source": [
    "results['Title']"
   ]
  },
  {
   "cell_type": "code",
   "execution_count": null,
   "id": "07f4499e",
   "metadata": {},
   "outputs": [],
   "source": []
  }
 ],
 "metadata": {
  "kernelspec": {
   "display_name": "Python 3 (ipykernel)",
   "language": "python",
   "name": "python3"
  },
  "language_info": {
   "codemirror_mode": {
    "name": "ipython",
    "version": 3
   },
   "file_extension": ".py",
   "mimetype": "text/x-python",
   "name": "python",
   "nbconvert_exporter": "python",
   "pygments_lexer": "ipython3",
   "version": "3.9.12"
  }
 },
 "nbformat": 4,
 "nbformat_minor": 5
}
